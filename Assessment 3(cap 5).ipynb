{
 "cells": [
  {
   "cell_type": "code",
   "execution_count": 1,
   "metadata": {},
   "outputs": [
    {
     "name": "stdout",
     "output_type": "stream",
     "text": [
      "Enter number 1 :5\n",
      "Enter number 2 :6\n",
      "Maximum of two : 6\n"
     ]
    }
   ],
   "source": [
    "#Assessment 3\n",
    "#problem 1\n",
    "\n",
    "def max(num1,num2):\n",
    "    if num1>num2:\n",
    "        return num1\n",
    "    else:\n",
    "        return num2\n",
    "    \n",
    "num1=int(input(\"Enter number 1 :\"))\n",
    "num2=int(input(\"Enter number 2 :\"))\n",
    "print(\"Maximum of two :\",max(num1,num2))"
   ]
  },
  {
   "cell_type": "code",
   "execution_count": 5,
   "metadata": {},
   "outputs": [
    {
     "name": "stdout",
     "output_type": "stream",
     "text": [
      "Enter a number :15\n",
      "Fizz Buzz\n"
     ]
    }
   ],
   "source": [
    "#problem 2\n",
    "\n",
    "def fizz_buzz(num):\n",
    "    if num%3==0:\n",
    "        if num%5==0:\n",
    "            return 'Fizz Buzz'\n",
    "        else:\n",
    "            return 'Fizz'\n",
    "    elif num%5==0:\n",
    "        if num%3==0:\n",
    "            return 'Fizz Buzz'\n",
    "        else:\n",
    "            return 'Buzz'\n",
    "    \n",
    "    else:\n",
    "        return num\n",
    "    \n",
    "num=int(input(\"Enter a number :\"))\n",
    "print(fizz_buzz(num))\n",
    "        \n",
    "    "
   ]
  },
  {
   "cell_type": "code",
   "execution_count": 14,
   "metadata": {},
   "outputs": [
    {
     "name": "stdout",
     "output_type": "stream",
     "text": [
      "Mention the speed of Driver :80\n",
      "points : 2\n",
      "\n"
     ]
    }
   ],
   "source": [
    "#problem 3\n",
    "\n",
    "def speed_check(speed):\n",
    "    demerit=0\n",
    "    if speed <=70:\n",
    "        return 'Ok'\n",
    "    elif speed>70:\n",
    "        demerit=(speed-70)//5\n",
    "    if demerit>0:\n",
    "        print(\"points :\",demerit)\n",
    "        return ''\n",
    "    if demerit >= 12:\n",
    "        return 'Licence Suspended'\n",
    "speed=int(input(\"Mention the speed of Driver :\"))\n",
    "print(speed_check(speed))"
   ]
  },
  {
   "cell_type": "code",
   "execution_count": 17,
   "metadata": {},
   "outputs": [
    {
     "name": "stdout",
     "output_type": "stream",
     "text": [
      "Enter limit :7\n",
      "0   EVEN\n",
      "1   ODD\n",
      "2   EVEN\n",
      "3   ODD\n",
      "4   EVEN\n",
      "5   ODD\n",
      "6   EVEN\n"
     ]
    }
   ],
   "source": [
    "#problem 4\n",
    "\n",
    "def show_numbers(lim):\n",
    "    for i in range(0,lim):\n",
    "        print(i,\" \",check(i))\n",
    "def check(i):\n",
    "    if(i%2==0):\n",
    "        return 'EVEN'\n",
    "    else:\n",
    "        return 'ODD'\n",
    "    \n",
    "lim=int(input(\"Enter limit :\"))\n",
    "show_numbers(lim)"
   ]
  },
  {
   "cell_type": "code",
   "execution_count": 18,
   "metadata": {},
   "outputs": [
    {
     "name": "stdout",
     "output_type": "stream",
     "text": [
      "Enter rows :5\n",
      "* \n",
      "* * \n",
      "* * * \n",
      "* * * * \n",
      "* * * * * \n"
     ]
    }
   ],
   "source": [
    "#problem 5\n",
    "\n",
    "def show_stars(rows):\n",
    "    for i in range(1,rows+1):\n",
    "        for j in range(0,i):\n",
    "            print(\"*\",end=\" \")\n",
    "        print()    \n",
    "        \n",
    "rows=int(input(\"Enter rows :\"))\n",
    "show_stars(rows)"
   ]
  }
 ],
 "metadata": {
  "kernelspec": {
   "display_name": "Python 3",
   "language": "python",
   "name": "python3"
  },
  "language_info": {
   "codemirror_mode": {
    "name": "ipython",
    "version": 3
   },
   "file_extension": ".py",
   "mimetype": "text/x-python",
   "name": "python",
   "nbconvert_exporter": "python",
   "pygments_lexer": "ipython3",
   "version": "3.8.5"
  }
 },
 "nbformat": 4,
 "nbformat_minor": 4
}
