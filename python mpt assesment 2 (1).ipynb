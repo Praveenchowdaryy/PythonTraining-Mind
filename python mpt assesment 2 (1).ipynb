{
 "cells": [
  {
   "cell_type": "markdown",
   "metadata": {},
   "source": [
    "PYTHON MPT ASSESMENT-2"
   ]
  },
  {
   "cell_type": "code",
   "execution_count": 3,
   "metadata": {},
   "outputs": [
    {
     "name": "stdout",
     "output_type": "stream",
     "text": [
      "Enter a number: 2\n",
      "This is an even number.\n"
     ]
    }
   ],
   "source": [
    "#1\n",
    "num = int(input(\"Enter a number: \"))\n",
    "mod = num % 2\n",
    "if mod > 0:\n",
    "    print(\"This is an odd number.\")\n",
    "else:\n",
    "    print(\"This is an even number.\")"
   ]
  },
  {
   "cell_type": "code",
   "execution_count": 13,
   "metadata": {},
   "outputs": [
    {
     "name": "stdout",
     "output_type": "stream",
     "text": [
      " Enter temperature in Centigrade: 40\n",
      " Temperature in Fahrenheit is:  104.0\n"
     ]
    }
   ],
   "source": [
    "#2\n",
    "c = input(\" Enter temperature in Centigrade: \")\n",
    "f = (9*(int(c))/5)+32\n",
    "print(\" Temperature in Fahrenheit is: \", f)"
   ]
  },
  {
   "cell_type": "code",
   "execution_count": 14,
   "metadata": {},
   "outputs": [
    {
     "name": "stdout",
     "output_type": "stream",
     "text": [
      "Enter the length of side a: 2\n",
      "Enter the length of side b: 4\n",
      "Enter the length of side c: 5\n",
      " Area of the triangle is:  3.799671038392666\n"
     ]
    }
   ],
   "source": [
    "# 3.Python Program to find the area of triangle\n",
    "\n",
    "import math\n",
    "a = float(input(\"Enter the length of side a: \"))\n",
    "b = float(input(\"Enter the length of side b: \"))\n",
    "c = float(input(\"Enter the length of side c: \"))\n",
    "s = (a+b+c)/2\n",
    "area = math.sqrt(s*(s-a)*(s-b)*(s-c))\n",
    "print(\" Area of the triangle is: \", area)"
   ]
  },
  {
   "cell_type": "code",
   "execution_count": 17,
   "metadata": {},
   "outputs": [
    {
     "name": "stdout",
     "output_type": "stream",
     "text": [
      "Enter the count of integers: 5\n",
      "Enter an integer: 1\n",
      "Enter an integer: 2\n",
      "Enter an integer: 3\n",
      "Enter an integer: 4\n",
      "Enter an integer: 5\n",
      " The average is:  3.0\n"
     ]
    }
   ],
   "source": [
    "#4\n",
    "count = int(input(\"Enter the count of integers: \"))\n",
    "i = 0\n",
    "sum = 0\n",
    "for i in range(count):\n",
    "    x = int(input(\"Enter an integer: \"))\n",
    "    sum = sum + x\n",
    "avg = sum/count\n",
    "print(\" The average is: \", avg)"
   ]
  },
  {
   "cell_type": "code",
   "execution_count": 18,
   "metadata": {},
   "outputs": [
    {
     "name": "stdout",
     "output_type": "stream",
     "text": [
      "Enter the number of real numbers: 4\n",
      "Enter a real number: 1.2\n",
      "Enter a real number: 1.5\n",
      "Enter a real number: 2.2\n",
      "Enter a real number: 3.2\n",
      "The product of the numbers is:  12.672\n"
     ]
    }
   ],
   "source": [
    "#5\n",
    "i = 0\n",
    "product = 1\n",
    "count = int(input(\"Enter the number of real numbers: \"))\n",
    "for i in range(count):\n",
    "    x = float(input(\"Enter a real number: \"))\n",
    "    product = product * x\n",
    "print(\"The product of the numbers is: \", product)\n"
   ]
  },
  {
   "cell_type": "code",
   "execution_count": 19,
   "metadata": {},
   "outputs": [
    {
     "name": "stdout",
     "output_type": "stream",
     "text": [
      "Input the radius of the circle: 2.12\n",
      "The circumference of the circle is:  13.320352851220724\n",
      "The area of the circle is:  14.119574022293968\n"
     ]
    }
   ],
   "source": [
    "#6\n",
    "import math\n",
    "r = float(input(\"Input the radius of the circle: \"))\n",
    "c = 2 * math.pi * r\n",
    "area = math.pi * r * r\n",
    "print(\"The circumference of the circle is: \", c)\n",
    "print(\"The area of the circle is: \", area)"
   ]
  },
  {
   "cell_type": "code",
   "execution_count": 20,
   "metadata": {},
   "outputs": [
    {
     "name": "stdout",
     "output_type": "stream",
     "text": [
      "Enter an integer: 10\n",
      "10 is a multile of 5\n"
     ]
    }
   ],
   "source": [
    "#7\n",
    "number = int(input(\"Enter an integer: \"))\n",
    "if(number%5==0):\n",
    "    print(number, \"is a multile of 5\")\n",
    "else:\n",
    "    print(number, \"is not a multiple of 5\")"
   ]
  },
  {
   "cell_type": "code",
   "execution_count": 21,
   "metadata": {},
   "outputs": [
    {
     "name": "stdout",
     "output_type": "stream",
     "text": [
      "Enter an integer: 12\n",
      "12 is not a multiple of both 5 and 7\n"
     ]
    }
   ],
   "source": [
    "#8\n",
    "number = int(input(\"Enter an integer: \"))\n",
    "if((number%5==0)and(number%7==0)):\n",
    "    print(number, \"is a multiple of both 5 and 7\")\n",
    "else:\n",
    "    print(number, \"is not a multiple of both 5 and 7\")"
   ]
  },
  {
   "cell_type": "code",
   "execution_count": 22,
   "metadata": {},
   "outputs": [
    {
     "name": "stdout",
     "output_type": "stream",
     "text": [
      "Enter a real number: 2\n",
      "Enter a real number: 3\n",
      "Enter a real number: 4\n",
      "Enter a real number: 6\n",
      "Enter a real number: 8\n",
      "Enter a real number: 9\n",
      "Enter a real number: 9\n",
      "Enter a real number: 4\n",
      "Enter a real number: 2\n",
      "Enter a real number: 1\n",
      "Average is : 4.8\n"
     ]
    }
   ],
   "source": [
    "#9\n",
    "count = 0\n",
    "sum = 0.0\n",
    "while(count<10):\n",
    "    number = float(input(\"Enter a real number: \"))\n",
    "    count=count+1\n",
    "    sum = sum+number\n",
    "avg = sum/10;\n",
    "print(\"Average is :\",avg)"
   ]
  },
  {
   "cell_type": "code",
   "execution_count": 23,
   "metadata": {},
   "outputs": [
    {
     "name": "stdout",
     "output_type": "stream",
     "text": [
      "Enter a positive integer: 23\n",
      "32\n"
     ]
    }
   ],
   "source": [
    "#10\n",
    "number = int(input(\"Enter a positive integer: \"))\n",
    "rev = 0\n",
    "while(number!=0):\n",
    "    digit = number%10\n",
    "    rev = (rev*10)+digit\n",
    "    number = number//10\n",
    "print(rev)"
   ]
  },
  {
   "cell_type": "code",
   "execution_count": 24,
   "metadata": {},
   "outputs": [
    {
     "name": "stdout",
     "output_type": "stream",
     "text": [
      "Enter the number of values: 4\n",
      "Enter a real number: 2\n",
      "Enter a real number: 5.2\n",
      "Enter a real number: 2.3\n",
      "Enter a real number: 3.1\n",
      "The geometric mean is:  2.934477049738311\n"
     ]
    }
   ],
   "source": [
    "#11\n",
    "c = 0\n",
    "p = 1.0\n",
    "count = int(input(\"Enter the number of values: \"))\n",
    "while(c<count):\n",
    "    x = float(input(\"Enter a real number: \"))\n",
    "    c = c+1\n",
    "    p = p * x\n",
    "gm = pow(p,1.0/count)\n",
    "print(\"The geometric mean is: \",gm)"
   ]
  },
  {
   "cell_type": "code",
   "execution_count": 25,
   "metadata": {},
   "outputs": [
    {
     "name": "stdout",
     "output_type": "stream",
     "text": [
      "Enter an integer: 21\n",
      "Sum of digits is:  3\n"
     ]
    }
   ],
   "source": [
    "#12\n",
    "sum = 0\n",
    "number = int(input(\"Enter an integer: \"))\n",
    "while(number!=0):\n",
    "    digit = number%10\n",
    "    sum = sum+digit\n",
    "    number = number//10\n",
    "print(\"Sum of digits is: \", sum)"
   ]
  },
  {
   "cell_type": "code",
   "execution_count": 26,
   "metadata": {},
   "outputs": [
    {
     "name": "stdout",
     "output_type": "stream",
     "text": [
      "12\n",
      "15\n",
      "18\n",
      "21\n",
      "24\n",
      "27\n",
      "30\n",
      "33\n",
      "36\n",
      "39\n",
      "42\n",
      "45\n",
      "48\n"
     ]
    }
   ],
   "source": [
    "#13\n",
    "for i in range(10,50):\n",
    "    if (i%3==0):\n",
    "        print(i)"
   ]
  },
  {
   "cell_type": "code",
   "execution_count": 27,
   "metadata": {},
   "outputs": [
    {
     "name": "stdout",
     "output_type": "stream",
     "text": [
      "101\n",
      "103\n",
      "105\n",
      "107\n",
      "109\n",
      "110\n",
      "112\n",
      "114\n",
      "116\n",
      "118\n",
      "121\n",
      "123\n",
      "125\n",
      "127\n",
      "129\n",
      "130\n",
      "132\n",
      "134\n",
      "136\n",
      "138\n",
      "141\n",
      "143\n",
      "145\n",
      "147\n",
      "149\n",
      "150\n",
      "152\n",
      "154\n",
      "156\n",
      "158\n",
      "161\n",
      "163\n",
      "165\n",
      "167\n",
      "169\n",
      "170\n",
      "172\n",
      "174\n",
      "176\n",
      "178\n",
      "181\n",
      "183\n",
      "185\n",
      "187\n",
      "189\n",
      "190\n",
      "192\n",
      "194\n",
      "196\n",
      "198\n"
     ]
    }
   ],
   "source": [
    "#14\n",
    "for i in range(100,200):\n",
    "    num = i\n",
    "    sum = 0\n",
    "    while(num!=0):\n",
    "        digit = num%10\n",
    "        sum = sum + digit\n",
    "        num = num//10\n",
    "    if(sum%2==0):\n",
    "        print(i)"
   ]
  },
  {
   "cell_type": "code",
   "execution_count": 29,
   "metadata": {},
   "outputs": [
    {
     "name": "stdout",
     "output_type": "stream",
     "text": [
      "Enter an integer: 21\n",
      "21 is not a prime number\n"
     ]
    }
   ],
   "source": [
    "#15\n",
    "num = int(input(\"Enter an integer: \"))\n",
    "isprime = 1 #assuming that num is prime\n",
    "for i in range(2,num//2):\n",
    "    if (num%i==0):\n",
    "        isprime = 0\n",
    "        break\n",
    "if(isprime==1):\n",
    "    print(num, \"is a prime number\")\n",
    "else:\n",
    "    print(num, \"is not a prime number\")"
   ]
  },
  {
   "cell_type": "code",
   "execution_count": 30,
   "metadata": {},
   "outputs": [
    {
     "name": "stdout",
     "output_type": "stream",
     "text": [
      "Enter the number of prime numbers required: 5\n",
      "2\n",
      "3\n",
      "4\n",
      "5\n",
      "7\n"
     ]
    }
   ],
   "source": [
    "#16\n",
    "num = int((input(\"Enter the number of prime numbers required: \")))\n",
    "count = 0\n",
    "i = 2\n",
    "while(count<num):\n",
    "    isprime=1\n",
    "    for j in range(2,i//2):\n",
    "        if(i%j==0):\n",
    "            isprime = 0\n",
    "            break\n",
    "    if(isprime==1):\n",
    "        print(i)\n",
    "        count= count + 1\n",
    "    i = i+1"
   ]
  },
  {
   "cell_type": "code",
   "execution_count": 3,
   "metadata": {},
   "outputs": [
    {
     "name": "stdout",
     "output_type": "stream",
     "text": [
      "Enter a: 5\n",
      "Enter b: 2\n",
      "Enter c: 3\n",
      "The solution are (-0.2-0.7483314773547882j) and (-0.2+0.7483314773547882j)\n"
     ]
    }
   ],
   "source": [
    "#17\n",
    "import cmath  \n",
    "a = float(input('Enter a: '))  \n",
    "b = float(input('Enter b: '))  \n",
    "c = float(input('Enter c: '))   \n",
    "d = (b**2) - (4*a*c)    \n",
    "sol1 = (-b-cmath.sqrt(d))/(2*a)  \n",
    "sol2 = (-b+cmath.sqrt(d))/(2*a)  \n",
    "print('The solution are {0} and {1}'.format(sol1,sol2))"
   ]
  },
  {
   "cell_type": "code",
   "execution_count": 39,
   "metadata": {},
   "outputs": [
    {
     "name": "stdout",
     "output_type": "stream",
     "text": [
      "8\n",
      "7\n",
      "6\n",
      "5\n",
      "4\n",
      "3\n",
      "2\n",
      "1\n"
     ]
    }
   ],
   "source": [
    "#18\n",
    "def print_till_zero(n):\n",
    "    if (n==0):\n",
    "        return\n",
    "    print(n)\n",
    "    n=n-1\n",
    "    print_till_zero(n)\n",
    "print_till_zero(8)"
   ]
  },
  {
   "cell_type": "code",
   "execution_count": 42,
   "metadata": {},
   "outputs": [
    {
     "name": "stdout",
     "output_type": "stream",
     "text": [
      "Enter an integer: 5\n",
      "The factorial of 5  is:  120\n"
     ]
    }
   ],
   "source": [
    "#19\n",
    "def fact(n):\n",
    "    if n==1:\n",
    "        f=1\n",
    "    else:\n",
    "        f = n * fact(n-1)\n",
    "    return f\n",
    "num = int(input(\"Enter an integer: \"))\n",
    "result = fact(num)\n",
    "print(\"The factorial of\", num, \" is: \", result)"
   ]
  },
  {
   "cell_type": "code",
   "execution_count": 1,
   "metadata": {},
   "outputs": [
    {
     "name": "stdout",
     "output_type": "stream",
     "text": [
      "How many numbers: 4\n",
      "Enter number 5\n",
      "Enter number 6\n",
      "Enter number 7\n",
      "Enter number 8\n",
      "Sum of numbers in the given list is : 26\n"
     ]
    }
   ],
   "source": [
    "#20\n",
    "numbers = []\n",
    "num = int(input('How many numbers: '))\n",
    "for n in range(num):\n",
    "    x = int(input('Enter number '))\n",
    "    numbers.append(x)\n",
    "print(\"Sum of numbers in the given list is :\", sum(numbers))"
   ]
  },
  {
   "cell_type": "code",
   "execution_count": 46,
   "metadata": {},
   "outputs": [
    {
     "name": "stdout",
     "output_type": "stream",
     "text": [
      "Enter the number to be found out: 2\n",
      " Successful search, the element is found at position 1\n"
     ]
    }
   ],
   "source": [
    "#21\n",
    "numbers = [4,2,7,1,8,3,6]\n",
    "f = 0 #flag\n",
    "x = int(input(\"Enter the number to be found out: \"))\n",
    "for i in range(len(numbers)):\n",
    "    if (x==numbers[i]):\n",
    "        print(\" Successful search, the element is found at position\", i)\n",
    "        f = 1\n",
    "        break\n",
    "if(f==0):\n",
    "    print(\" Search unsuccessful\")"
   ]
  },
  {
   "cell_type": "code",
   "execution_count": 47,
   "metadata": {},
   "outputs": [
    {
     "name": "stdout",
     "output_type": "stream",
     "text": [
      "Search successful, element found at position  3\n"
     ]
    }
   ],
   "source": [
    "#22\n",
    "def binarySearch(numbers, low, high, x):\n",
    "    if (high >= low):\n",
    "        mid = low + (high - low)//2\n",
    "        if (numbers[mid] == x):\n",
    "            return mid\n",
    "        elif (numbers[mid] > x):\n",
    "            return binarySearch(numbers, low, mid-1, x)\n",
    "        else:\n",
    "            return binarySearch(numbers, mid+1, high, x)\n",
    "    else:\n",
    "        return -1\n",
    "numbers = [ 9,4,6,7,2,1,5 ]\n",
    "x = 7\n",
    "result = binarySearch(numbers, 0, len(numbers)-1, x)\n",
    "if (result != -1):\n",
    "    print(\"Search successful, element found at position \", result)\n",
    "else:\n",
    "    print(\"The given element is not present in the array\")\n"
   ]
  },
  {
   "cell_type": "code",
   "execution_count": 48,
   "metadata": {},
   "outputs": [
    {
     "name": "stdout",
     "output_type": "stream",
     "text": [
      "The number of odd numbers in the list are:  4\n"
     ]
    }
   ],
   "source": [
    "#23\n",
    "numbers = [8,3,1,6,2,4,5,9]\n",
    "count = 0\n",
    "for i in range(len(numbers)):\n",
    "    if(numbers[i]%2!=0):\n",
    "        count = count+1\n",
    "print(\"The number of odd numbers in the list are: \", count)"
   ]
  },
  {
   "cell_type": "code",
   "execution_count": 49,
   "metadata": {},
   "outputs": [
    {
     "name": "stdout",
     "output_type": "stream",
     "text": [
      "The largest element is  9  which is found at position  5\n"
     ]
    }
   ],
   "source": [
    "#24\n",
    "numbers = [3,8,1,7,2,9,5,4]\n",
    "big = numbers[0]\n",
    "position = 0\n",
    "for i in range(len(numbers)):\n",
    "    if (numbers[i]>big):\n",
    "        big = numbers[i]\n",
    "        position = i\n",
    "\n",
    "        print(\"The largest element is \",big,\" which is found at position \",position)"
   ]
  },
  {
   "cell_type": "code",
   "execution_count": 50,
   "metadata": {},
   "outputs": [
    {
     "name": "stdout",
     "output_type": "stream",
     "text": [
      "[3, 4, 1, 9, 6, 2, 8]\n",
      "Enter the number to be inserted: 12\n",
      "Enter the position: 5\n",
      "[3, 4, 1, 9, 6, 12, 2, 8]\n"
     ]
    }
   ],
   "source": [
    "#25\n",
    "numbers = [3,4,1,9,6,2,8]\n",
    "print(numbers)\n",
    "x = int(input(\"Enter the number to be inserted: \"))\n",
    "y = int(input(\"Enter the position: \"))\n",
    "numbers.insert(y,x)\n",
    "print(numbers)"
   ]
  },
  {
   "cell_type": "code",
   "execution_count": 51,
   "metadata": {},
   "outputs": [
    {
     "name": "stdout",
     "output_type": "stream",
     "text": [
      "[3, 4, 1, 9, 6, 2, 8]\n",
      "Enter the position of the element to be deleted: 4\n",
      "[3, 4, 1, 9, 2, 8]\n"
     ]
    }
   ],
   "source": [
    "#26\n",
    "numbers = [3,4,1,9,6,2,8]\n",
    "print(numbers)\n",
    "x = int(input(\"Enter the position of the element to be deleted: \"))\n",
    "numbers.pop(x)\n",
    "print(numbers)"
   ]
  },
  {
   "cell_type": "code",
   "execution_count": 53,
   "metadata": {},
   "outputs": [
    {
     "name": "stdout",
     "output_type": "stream",
     "text": [
      "Enter a string: amma\n",
      "The string is palindrome\n"
     ]
    }
   ],
   "source": [
    "#27\n",
    "def rev(inputString):\n",
    "    return inputString[::-1]\n",
    "def isPalindrome(inputString):\n",
    "    reverseString = rev(inputString)\n",
    "    if (inputString == reverseString):\n",
    "        return True\n",
    "    return False\n",
    "s = input(\"Enter a string: \")\n",
    "result = isPalindrome(s)\n",
    "if result == 1:\n",
    "    print(\"The string is palindrome\")\n",
    "else:\n",
    "    print(\"The string is not palindrome\")"
   ]
  },
  {
   "cell_type": "code",
   "execution_count": 54,
   "metadata": {},
   "outputs": [
    {
     "name": "stdout",
     "output_type": "stream",
     "text": [
      "[16, 10, 4]\n",
      "[18, 8, 9]\n",
      "[13, 10, 4]\n"
     ]
    }
   ],
   "source": [
    "#28\n",
    "X = [[8,5,1],\n",
    "[9 ,3,2],\n",
    "[4 ,6,3]]\n",
    "Y = [[8,5,3],\n",
    "[9,5,7],\n",
    "[9,4,1]]\n",
    "result = [[0,0,0],\n",
    "[0,0,0],\n",
    "[0,0,0]]\n",
    "for i in range(len(X)):\n",
    "    for j in range(len(X[0])):\n",
    "        result[i][j] = X[i][j] + Y[i][j]\n",
    "for k in result:\n",
    "    print(k)"
   ]
  },
  {
   "cell_type": "code",
   "execution_count": 55,
   "metadata": {},
   "outputs": [
    {
     "name": "stdout",
     "output_type": "stream",
     "text": [
      "[118, 69, 60, 0]\n",
      "[117, 68, 50, 0]\n",
      "[113, 62, 57, 0]\n"
     ]
    }
   ],
   "source": [
    "#29\n",
    "X = [[8,5,1],\n",
    "[9 ,3,2],\n",
    "[4 ,6,3]]\n",
    "Y = [[8,5,3],\n",
    "[9,5,7],\n",
    "[9,4,1]]\n",
    "result = [[0,0,0,0],\n",
    "[0,0,0,0],\n",
    "[0,0,0,0]]\n",
    "for i in range(len(X)):\n",
    "    for j in range(len(Y[0])):\n",
    "        for k in range(len(Y)):\n",
    "            result[i][j] += X[i][k] * Y[k][j]\n",
    "for x in result:\n",
    "    print(x)"
   ]
  },
  {
   "cell_type": "code",
   "execution_count": 56,
   "metadata": {},
   "outputs": [
    {
     "name": "stdout",
     "output_type": "stream",
     "text": [
      "Enter a year: 2020\n",
      "2020  is a leap year\n"
     ]
    }
   ],
   "source": [
    "#30\n",
    "year = int(input(\"Enter a year: \"))\n",
    "if (year % 4) == 0:\n",
    "    if (year % 100) == 0:\n",
    "        if (year % 400) == 0:\n",
    "            print(year, \" is a leap year\")\n",
    "        else:\n",
    "            print(year, \" is not a leap year\")\n",
    "    else:\n",
    "        print(year, \" is a leap year\")\n",
    "else:\n",
    "    print(year, \" is not a leap year\")"
   ]
  },
  {
   "cell_type": "code",
   "execution_count": 57,
   "metadata": {},
   "outputs": [
    {
     "name": "stdout",
     "output_type": "stream",
     "text": [
      "8\n"
     ]
    }
   ],
   "source": [
    "#31\n",
    "def Fib(n):\n",
    "    if n<0:\n",
    "        print(\"The input is incorrect.\")\n",
    "    elif n==1:\n",
    "        return 0\n",
    "    elif n==2:\n",
    "        return 1\n",
    "    else:\n",
    "        return Fib(n-1)+Fib(n-2)\n",
    "print(Fib(7))"
   ]
  },
  {
   "cell_type": "code",
   "execution_count": 58,
   "metadata": {},
   "outputs": [
    {
     "name": "stdout",
     "output_type": "stream",
     "text": [
      "Enter the number of terms in the sequence: 5\n",
      "0 1 1 2 3 "
     ]
    }
   ],
   "source": [
    "#32\n",
    "a = 0\n",
    "b = 1\n",
    "n=int(input(\"Enter the number of terms in the sequence: \"))\n",
    "print(a,b,end=\" \")\n",
    "while(n-2):\n",
    "    c=a+b\n",
    "    a,b = b,c\n",
    "    print(c,end=\" \")\n",
    "    n=n-1"
   ]
  },
  {
   "cell_type": "code",
   "execution_count": 4,
   "metadata": {},
   "outputs": [
    {
     "name": "stdout",
     "output_type": "stream",
     "text": [
      "bhargav : ['8592970000', 'bhargavgmail.com']\n",
      "sai ram : ['7994880000', 'sairam@gmail.com']\n",
      "praveen : ['9749552647', 'praveen@gmail.com']\n"
     ]
    }
   ],
   "source": [
    "#33\n",
    "phone_book = {\n",
    "'bhargav' : [ '8592970000', 'bhargavgmail.com' ],\n",
    "'sai ram': [ '7994880000', 'sairam@gmail.com' ],\n",
    "'praveen' : [ '9749552647' , 'praveen@gmail.com' ]\n",
    "}\n",
    "for k,v in phone_book.items():\n",
    "    print(k, \":\", v)"
   ]
  },
  {
   "cell_type": "code",
   "execution_count": 60,
   "metadata": {},
   "outputs": [
    {
     "name": "stdout",
     "output_type": "stream",
     "text": [
      "Enter two numbers\n",
      "2\n",
      "3\n",
      "Enter the operation +,-,,/ \n",
      "+\n",
      "5\n"
     ]
    }
   ],
   "source": [
    "#34\n",
    "def add(x,y):\n",
    "    print(x+y)\n",
    "def subtract(x,y):\n",
    "    print(x-y)\n",
    "def multiply(x,y):\n",
    "    print(x*y)\n",
    "def divide(x,y):\n",
    "    print(x/y)\n",
    "print(\"Enter two numbers\")\n",
    "n1=input()\n",
    "n2=input()\n",
    "print(\"Enter the operation +,-,,/ \") \n",
    "op=input() \n",
    "if op=='+':\n",
    "    add(int(n1),int(n2))\n",
    "elif op=='-':\n",
    "    subtract(int(n1),int(n2))\n",
    "elif op=='':\n",
    "    multiply(int(n1),int(n2))\n",
    "elif op=='/':\n",
    "    divide(int(n1),int(n2))\n",
    "else:\n",
    "    print(\" Invalid entry \")"
   ]
  },
  {
   "cell_type": "code",
   "execution_count": 1,
   "metadata": {},
   "outputs": [],
   "source": [
    "#35\n",
    "import turtle\n",
    "x=turtle.Turtle()\n",
    "\n",
    "\n",
    "def square(angle):\n",
    "    x.forward(100)\n",
    "    x.right(angle)\n",
    "    x.forward(100)\n",
    "    x.right(angle)\n",
    "    x.forward(100)\n",
    "    x.right(angle)\n",
    "    x.forward(100)\n",
    "    x.right(angle+10)\n",
    "\n",
    "for i in range(36):\n",
    "    square(90)"
   ]
  },
  {
   "cell_type": "code",
   "execution_count": null,
   "metadata": {},
   "outputs": [],
   "source": []
  }
 ],
 "metadata": {
  "kernelspec": {
   "display_name": "Python 3",
   "language": "python",
   "name": "python3"
  },
  "language_info": {
   "codemirror_mode": {
    "name": "ipython",
    "version": 3
   },
   "file_extension": ".py",
   "mimetype": "text/x-python",
   "name": "python",
   "nbconvert_exporter": "python",
   "pygments_lexer": "ipython3",
   "version": "3.8.5"
  }
 },
 "nbformat": 4,
 "nbformat_minor": 4
}
