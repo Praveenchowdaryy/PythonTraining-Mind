{
 "cells": [
  {
   "cell_type": "code",
   "execution_count": 1,
   "metadata": {},
   "outputs": [
    {
     "name": "stdout",
     "output_type": "stream",
     "text": [
      "What is your name: Praveen\n",
      "How old are you: 21\n",
      "Praveen will be 100 years old in the year 2093\n"
     ]
    }
   ],
   "source": [
    "#Assessment 1\n",
    "#Problem 1\n",
    "\n",
    "name = input(\"What is your name: \")\n",
    "age = int(input(\"How old are you: \"))\n",
    "year = str((2014 - age)+100)\n",
    "print(name + \" will be 100 years old in the year \" + year)"
   ]
  },
  {
   "cell_type": "code",
   "execution_count": 4,
   "metadata": {},
   "outputs": [
    {
     "name": "stdout",
     "output_type": "stream",
     "text": [
      "Enter a number: 6\n",
      " an even number.\n"
     ]
    }
   ],
   "source": [
    "#Problem 2\n",
    "\n",
    "num = int(input(\"Enter a number: \"))\n",
    "mod = num % 2\n",
    "if mod > 0:\n",
    "    print(\" an odd number.\")\n",
    "else:\n",
    "    print(\" an even number.\")"
   ]
  },
  {
   "cell_type": "code",
   "execution_count": 13,
   "metadata": {},
   "outputs": [
    {
     "name": "stdout",
     "output_type": "stream",
     "text": [
      "Enter number of elements : 5\n",
      "2\n",
      "4\n",
      "6\n",
      "8\n",
      "3\n",
      "less than 5\n",
      "2 4 3 "
     ]
    }
   ],
   "source": [
    "#Problem 3\n",
    "\n",
    "lst = [] \n",
    "n = int(input(\"Enter number of elements : \")) \n",
    "for i in range(0, n): \n",
    "    ele = int(input()) \n",
    "    lst.append(ele)  \n",
    "print(\"less than 5\")    \n",
    "for i in range(0,n):\n",
    "    if lst[i]<5:\n",
    "        print(lst[i],end=\" \")\n",
    "    \n"
   ]
  },
  {
   "cell_type": "code",
   "execution_count": 14,
   "metadata": {},
   "outputs": [
    {
     "name": "stdout",
     "output_type": "stream",
     "text": [
      "Please choose a number to divide: 8\n",
      "[1, 2, 4, 8]\n"
     ]
    }
   ],
   "source": [
    "#Problem 4\n",
    "\n",
    "num = int(input(\"Please choose a number to divide: \"))\n",
    "\n",
    "listRange = list(range(1,num+1))\n",
    "\n",
    "divisors = []\n",
    "\n",
    "for i in listRange:\n",
    "    if num % i == 0:\n",
    "        divisors.append(i)\n",
    "\n",
    "print(divisors)"
   ]
  },
  {
   "cell_type": "code",
   "execution_count": 19,
   "metadata": {},
   "outputs": [
    {
     "name": "stdout",
     "output_type": "stream",
     "text": [
      "Enter number of elements List 1 : 4\n",
      "Enter number of elements List 2: 5\n",
      "List 1 elements :\n",
      "1\n",
      "2\n",
      "3\n",
      "4\n",
      "List 2 elements :\n",
      "3\n",
      "4\n",
      "4\n",
      "3\n",
      "5\n",
      "[1, 2, 3, 4]\n",
      "[3, 4, 4, 3, 5]\n",
      "result elements : \n",
      "[3, 4]\n"
     ]
    }
   ],
   "source": [
    "#Problem 5\n",
    "\n",
    "list1 = []\n",
    "list2 = []\n",
    "newList = []\n",
    "n1 = int(input(\"Enter number of elements List 1 : \")) \n",
    "n2 = int(input(\"Enter number of elements List 2: \"))\n",
    "print(\"List 1 elements :\")\n",
    "for i in range(0, n1): \n",
    "    ele = int(input()) \n",
    "    list1.append(ele)\n",
    "    \n",
    "print(\"List 2 elements :\")    \n",
    "for i in range(0, n2):\n",
    "    ele = int(input())\n",
    "    list2.append(ele)\n",
    "    \n",
    "for i in list1:\n",
    "    if i in list2:\n",
    "        if i not in newList:\n",
    "            newList.append(i)\n",
    "            \n",
    "print(list1)\n",
    "print(list2)\n",
    "print(\"result elements : \")\n",
    "print(newList)"
   ]
  },
  {
   "cell_type": "code",
   "execution_count": 20,
   "metadata": {},
   "outputs": [
    {
     "name": "stdout",
     "output_type": "stream",
     "text": [
      "Please enter a wordabba\n",
      "abba\n",
      "This word is a palindrome\n"
     ]
    }
   ],
   "source": [
    "#Problem 6\n",
    "\n",
    "wrd=input(\"Please enter a word\")\n",
    "wrd=str(wrd)\n",
    "rvs=wrd[::-1]\n",
    "print(rvs)\n",
    "if wrd == rvs:\n",
    "    print(\"This word is a palindrome\")\n",
    "else:\n",
    "    print(\"This word is not a palindrome\")"
   ]
  },
  {
   "cell_type": "code",
   "execution_count": 22,
   "metadata": {},
   "outputs": [
    {
     "name": "stdout",
     "output_type": "stream",
     "text": [
      "Enter number of elements : 5\n",
      "1\n",
      "2\n",
      "3\n",
      "4\n",
      "5\n",
      "Only even\n",
      "[2, 4]\n"
     ]
    }
   ],
   "source": [
    "#Problem 7\n",
    "\n",
    "lst = [] \n",
    "n = int(input(\"Enter number of elements : \")) \n",
    "for i in range(0, n): \n",
    "    ele = int(input()) \n",
    "    lst.append(ele)\n",
    "    \n",
    "list2=[i for i in lst if i % 2 == 0] \n",
    "print(\"Only even\")\n",
    "print(list2)"
   ]
  },
  {
   "cell_type": "code",
   "execution_count": 26,
   "metadata": {},
   "outputs": [
    {
     "name": "stdout",
     "output_type": "stream",
     "text": [
      "your name :praveen\n",
      "And your frnd name :john\n",
      "praveen, do yo want to choose rock, paper or scissorspaper\n",
      "john, do you want to choose rock, paper or scissorsrock\n",
      "Paper wins!\n"
     ]
    }
   ],
   "source": [
    "#Problem 8\n",
    "\n",
    "\n",
    "user1 = input(\"your name :\")\n",
    "user2 = input(\"And your frnd name :\")\n",
    "user1_answer = input(\"%s, do yo want to choose rock, paper or scissors\" % user1)\n",
    "user2_answer = input(\"%s, do you want to choose rock, paper or scissors\" % user2)\n",
    "\n",
    "def compare(u1, u2):\n",
    "    if u1 == u2:\n",
    "        return(\"It's a tie!\")\n",
    "    elif u1 == 'rock':\n",
    "        if u2 == 'scissors':\n",
    "            return(\"Rock wins!\")\n",
    "        else:\n",
    "            return(\"Paper wins!\")\n",
    "    elif u1 == 'scissors':\n",
    "        if u2 == 'paper':\n",
    "            return(\"Scissors win!\")\n",
    "        else:\n",
    "            return(\"Rock wins!\")\n",
    "    elif u1 == 'paper':\n",
    "        if u2 == 'rock':\n",
    "            return(\"Paper wins!\")\n",
    "        else:\n",
    "            return(\"Scissors win!\")\n",
    "    else:\n",
    "        return(\"Invalid input! You have not entered rock, paper or scissors, try again.\")\n",
    "        \n",
    "\n",
    "print(compare(user1_answer, user2_answer))"
   ]
  },
  {
   "cell_type": "code",
   "execution_count": 30,
   "metadata": {},
   "outputs": [
    {
     "name": "stdout",
     "output_type": "stream",
     "text": [
      "What's your guess?5\n",
      "Too low!\n",
      "What's your guess?7\n",
      "You got it!\n",
      "And it only took you 2 tries!\n"
     ]
    }
   ],
   "source": [
    "#Problem 9\n",
    "\n",
    "import random\n",
    "\n",
    "number = random.randint(1,9)\n",
    "guess = 0\n",
    "count = 0\n",
    "\n",
    "\n",
    "while guess != number and guess != \"exit\":\n",
    "    guess = input(\"What's your guess?\")\n",
    "    \n",
    "    if guess == \"exit\":\n",
    "        print(\"Thanks for using...\")\n",
    "        break\n",
    "    \n",
    "    guess = int(guess)\n",
    "    count += 1\n",
    "    \n",
    "    if guess < number:\n",
    "        print(\"Too low!\")\n",
    "    elif guess > number:\n",
    "        print(\"Too high!\")\n",
    "    else:\n",
    "        print(\"You got it!\")\n",
    "        print(\"And it only took you\",count,\"tries!\")"
   ]
  },
  {
   "cell_type": "code",
   "execution_count": 32,
   "metadata": {},
   "outputs": [
    {
     "name": "stdout",
     "output_type": "stream",
     "text": [
      "Enter a number :11\n",
      "11 is a prime number\n"
     ]
    }
   ],
   "source": [
    "#Problem 10\n",
    "\n",
    "num=int(input(\"Enter a number :\"))\n",
    " \n",
    "if num > 1:\n",
    " \n",
    "    for i in range(2, num):\n",
    " \n",
    "        if (num % i) == 0:\n",
    "            print(num, \"is not a prime number\")\n",
    "            break\n",
    "        else:\n",
    "            print(num, \"is a prime number\")\n",
    "            break\n",
    " \n",
    "else:\n",
    "    print(num, \"is not a prime number\")"
   ]
  },
  {
   "cell_type": "code",
   "execution_count": 33,
   "metadata": {},
   "outputs": [
    {
     "name": "stdout",
     "output_type": "stream",
     "text": [
      "Enter number of elements : 4\n",
      "2\n",
      "3\n",
      "4\n",
      "5\n",
      "[2, 5]\n"
     ]
    }
   ],
   "source": [
    "#Problem 11\n",
    "\n",
    "lst = [] \n",
    "n = int(input(\"Enter number of elements : \")) \n",
    "for i in range(0, n): \n",
    "    ele = int(input()) \n",
    "    lst.append(ele)\n",
    "newList=[]\n",
    "newList.append(lst[0])\n",
    "newList.append(lst[-1])\n",
    "print(newList)"
   ]
  },
  {
   "cell_type": "code",
   "execution_count": 34,
   "metadata": {},
   "outputs": [
    {
     "name": "stdout",
     "output_type": "stream",
     "text": [
      "Enter a number :5\n",
      "1 1 2 3 5 "
     ]
    }
   ],
   "source": [
    "#Problem 12\n",
    "\n",
    "def fib(num):\n",
    "    a=0\n",
    "    b=1\n",
    "    print(b,end=\" \")\n",
    "    for i in range(1,num):\n",
    "        c=a+b\n",
    "        a=b\n",
    "        b=c\n",
    "        print(c ,end=\" \")\n",
    "        \n",
    "num=int(input(\"Enter a number :\")) \n",
    "fib(num)"
   ]
  },
  {
   "cell_type": "code",
   "execution_count": 40,
   "metadata": {},
   "outputs": [
    {
     "name": "stdout",
     "output_type": "stream",
     "text": [
      "Enter number of elements : 5\n",
      "1\n",
      "2\n",
      "2\n",
      "3\n",
      "4\n",
      "[1, 2, 2, 3, 4]\n",
      "[1, 2, 3, 4]\n"
     ]
    }
   ],
   "source": [
    "#Problem 13\n",
    "\n",
    "def dup(lst):\n",
    "    list2=[]\n",
    "    for i in lst:\n",
    "        if i not in list2:\n",
    "            list2.append(i)\n",
    "    print(list2)        \n",
    "lst = [] \n",
    "n = int(input(\"Enter number of elements : \")) \n",
    "for i in range(0, n): \n",
    "    ele = int(input()) \n",
    "    lst.append(ele)            \n",
    "\n",
    "print(lst)\n",
    "dup(lst)"
   ]
  },
  {
   "cell_type": "code",
   "execution_count": 7,
   "metadata": {},
   "outputs": [
    {
     "name": "stdout",
     "output_type": "stream",
     "text": [
      "Enter a sentance :this is soo bad\n",
      "bad soo is this "
     ]
    }
   ],
   "source": [
    "#Problem 14\n",
    "\n",
    "sentance=input('Enter a sentance :')\n",
    "splitList=sentance.split(\" \")\n",
    "res=splitList[::-1]\n",
    "for i in res:\n",
    "    print(i,end=\" \")"
   ]
  },
  {
   "cell_type": "code",
   "execution_count": 12,
   "metadata": {},
   "outputs": [
    {
     "name": "stdout",
     "output_type": "stream",
     "text": [
      "How many characters?\n",
      "8\n",
      "$faw^iID\n"
     ]
    }
   ],
   "source": [
    "#Problem 15\n",
    "\n",
    "import random\n",
    "\n",
    "\n",
    "response = input('How many characters?\\n')\n",
    "length = int(response)\n",
    "\n",
    "password = ''\n",
    "for i in range(length):\n",
    "    char = chr(random.randrange(33,127))\n",
    "    password += char\n",
    "\n",
    "print(password)"
   ]
  },
  {
   "cell_type": "code",
   "execution_count": 16,
   "metadata": {},
   "outputs": [
    {
     "name": "stdout",
     "output_type": "stream",
     "text": [
      "Guess a 4-digit number: 3444\n",
      "Cows: 1  Bulls: 0\n",
      "Guess a 4-digit number: 2334\n",
      "Cows: 2  Bulls: 0\n",
      "Guess a 4-digit number: 4555\n",
      "Cows: 0  Bulls: 1\n",
      "Guess a 4-digit number: 2344\n",
      "Cows: 2  Bulls: 0\n",
      "Guess a 4-digit number: 4566\n",
      "Cows: 0  Bulls: 3\n",
      "Guess a 4-digit number: 45656\n",
      "Cows: 0  Bulls: 3\n",
      "Guess a 4-digit number: 3434\n",
      "Cows: 1  Bulls: 0\n",
      "Guess a 4-digit number: exit\n",
      ":(\n",
      "Fine, the answer was 2674\n",
      "cows count 6 and bulls count  7\n"
     ]
    }
   ],
   "source": [
    "#Problem 16\n",
    "\n",
    "import random\n",
    "\n",
    "secret = [random.randint(0,9), random.randint(0,9), random.randint(0,9), random.randint(0,9)]\n",
    "cows_count=0\n",
    "bulls_count=0\n",
    "cows = 0\n",
    "tries = 0\n",
    "while cows != 4:\n",
    "    guess = input(\"Guess a 4-digit number: \")\n",
    "\n",
    "    if guess == 'exit':\n",
    "        tries = False\n",
    "        break\n",
    "\n",
    "    cows = 0\n",
    "    bulls = 0\n",
    "    bullsecret = secret.copy()\n",
    "    bullguess = list(guess)\n",
    "\n",
    "    for gd, sd in zip(guess, secret):\n",
    "        if int(gd) == sd: #cows are right number right place\n",
    "            cows += 1\n",
    "            bullsecret.remove(sd)\n",
    "            bullguess.remove(gd)\n",
    "    for bgd in bullguess:\n",
    "        if int(bgd) in bullsecret: #bulls are right number wrong place\n",
    "            bulls += 1\n",
    "\n",
    "    print('Cows:', cows, ' Bulls:', bulls)\n",
    "    cows_count=cows_count+cows\n",
    "    bulls_count=bulls_count+bulls\n",
    "    tries += 1\n",
    "\n",
    "if tries:\n",
    "    print('Good job! It took you', tries, 'tries to guess the answer.')\n",
    "    print('cows count',cows_count ,'and bulls count ',bulls_count)\n",
    "else:\n",
    "    print(':(')\n",
    "    print('Fine, the answer was ', end='')\n",
    "    for x in secret:\n",
    "        print(x, end='')\n",
    "    print()\n",
    "    print('cows count',cows_count ,'and bulls count ',bulls_count)"
   ]
  },
  {
   "cell_type": "code",
   "execution_count": 19,
   "metadata": {},
   "outputs": [
    {
     "name": "stdout",
     "output_type": "stream",
     "text": [
      "Enter number of elements : 5\n",
      "4\n",
      "1\n",
      "2\n",
      "3\n",
      "6\n",
      "[1, 2, 3, 4, 6]\n",
      "Enter search element :6\n",
      "True\n"
     ]
    }
   ],
   "source": [
    "#Problem 17\n",
    "\n",
    "def in_list(list,s):\n",
    "    min=0\n",
    "    max=len(list)-1\n",
    "    while(min<=max):\n",
    "        mid = (min+max) // 2\n",
    "        if(list[mid] == s):\n",
    "            return True\n",
    "        if list[mid] < s:\n",
    "            min = mid+1\n",
    "        else:\n",
    "            max = mid-1\n",
    "            return False\n",
    "lst = [] \n",
    "n = int(input(\"Enter number of elements : \")) \n",
    "for i in range(0, n): \n",
    "    ele = int(input()) \n",
    "    lst.append(ele)\n",
    "lst.sort()    \n",
    "print(lst)\n",
    "search=int(input(\"Enter search element :\"))    \n",
    "print(in_list(lst,search))    "
   ]
  },
  {
   "cell_type": "code",
   "execution_count": 34,
   "metadata": {},
   "outputs": [
    {
     "name": "stdout",
     "output_type": "stream",
     "text": [
      "Enter number 1 :3\n",
      "Enter number 2 :7\n",
      "Enter number 3 :5\n",
      "Maximum number : 7\n"
     ]
    }
   ],
   "source": [
    "#Problem 18\n",
    "\n",
    "num1=int(input(\"Enter number 1 :\"))\n",
    "num2=int(input(\"Enter number 2 :\"))\n",
    "num3=int(input(\"Enter number 3 :\"))\n",
    "\n",
    "print(\"Maximum number :\",max(num1,num2,num3))\n",
    "\n",
    "def max(num1,num2,num3):\n",
    "    \n",
    "    if num1>num2 and num1>num3:\n",
    "       \n",
    "        return num1\n",
    "        \n",
    "     \n",
    "    elif num2>num3 and num2>num1:\n",
    "     \n",
    "        return num2\n",
    "    else:\n",
    "        return num3\n",
    "      \n",
    "    "
   ]
  }
 ],
 "metadata": {
  "kernelspec": {
   "display_name": "Python 3",
   "language": "python",
   "name": "python3"
  },
  "language_info": {
   "codemirror_mode": {
    "name": "ipython",
    "version": 3
   },
   "file_extension": ".py",
   "mimetype": "text/x-python",
   "name": "python",
   "nbconvert_exporter": "python",
   "pygments_lexer": "ipython3",
   "version": "3.8.5"
  }
 },
 "nbformat": 4,
 "nbformat_minor": 4
}
