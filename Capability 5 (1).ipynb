{
 "cells": [
  {
   "cell_type": "code",
   "execution_count": 97,
   "metadata": {},
   "outputs": [
    {
     "name": "stdout",
     "output_type": "stream",
     "text": [
      "a : 10\n",
      "b : 2.5\n",
      "c : 23.5\n",
      "d : Mindtree\n",
      "z : 67\n"
     ]
    }
   ],
   "source": [
    "#variables declaration\n",
    "\n",
    "a=10\n",
    "b=2.5\n",
    "c=23.50\n",
    "d=\"Mindtree\"\n",
    "x,y,z=22,34,67\n",
    "print(\"a :\",a)\n",
    "print(\"b :\",b)\n",
    "print(\"c :\",c)\n",
    "print(\"d :\",d)\n",
    "print(\"z :\",z)"
   ]
  },
  {
   "cell_type": "code",
   "execution_count": 62,
   "metadata": {},
   "outputs": [
    {
     "name": "stdout",
     "output_type": "stream",
     "text": [
      "<class 'int'>\n",
      "<class 'float'>\n",
      "<class 'float'>\n",
      "<class 'str'>\n",
      "<class 'complex'>\n",
      "<class 'bool'>\n"
     ]
    }
   ],
   "source": [
    "# data types in python\n",
    "\n",
    "a=10\n",
    "b=2.5\n",
    "c=23.50\n",
    "d=\"Mindtree\"\n",
    "e=12j+3\n",
    "f=True\n",
    "print(type(a))\n",
    "print(type(b))\n",
    "print(type(c))\n",
    "print(type(d))\n",
    "print(type(e))\n",
    "print(type(f))"
   ]
  },
  {
   "cell_type": "code",
   "execution_count": 64,
   "metadata": {},
   "outputs": [
    {
     "name": "stdout",
     "output_type": "stream",
     "text": [
      "23\n",
      "10.0\n",
      "80\n",
      "0xa\n",
      "0o12\n"
     ]
    }
   ],
   "source": [
    "# Type casting in python\n",
    "\n",
    "a=10\n",
    "b=2.5\n",
    "c=23.50\n",
    "d=\"50\"\n",
    "print(int(c))\n",
    "print(float(a))\n",
    "print(int(d)+30)\n",
    "print(hex(a))\n",
    "print(oct(a))"
   ]
  },
  {
   "cell_type": "code",
   "execution_count": 12,
   "metadata": {},
   "outputs": [
    {
     "name": "stdout",
     "output_type": "stream",
     "text": [
      "<class 'str'>\n",
      "th\n"
     ]
    }
   ],
   "source": [
    "# Strings in Python\n",
    "\n",
    "a = 'Python'\n",
    "c = a[2:4]\n",
    "print(type(a))\n",
    "print (c)"
   ]
  },
  {
   "cell_type": "code",
   "execution_count": 96,
   "metadata": {},
   "outputs": [
    {
     "name": "stdout",
     "output_type": "stream",
     "text": [
      "Mindtree minds\n",
      "2\n",
      "5\n",
      "mindtree minds\n",
      "MINDTREE MINDS\n",
      "Mindtree Minds\n",
      "14\n",
      "sdnim eertdnim\n"
     ]
    }
   ],
   "source": [
    "# String Operations\n",
    "\n",
    "a=\"mindtree minds\"\n",
    "\n",
    "#capitalize first char\n",
    "print(a.capitalize())\n",
    "\n",
    "#count no of occurences\n",
    "print(a.count('m'))\n",
    "\n",
    "#return index of char\n",
    "print(a.index('r'))\n",
    "\n",
    "#to lower case\n",
    "print(a.lower())\n",
    "\n",
    "#to upper case\n",
    "print(a.upper())\n",
    "\n",
    "print(a.title())\n",
    "\n",
    "#length of String\n",
    "print(len(a))\n",
    "\n",
    "#reverse of String\n",
    "print(a[::-1])"
   ]
  },
  {
   "cell_type": "code",
   "execution_count": 47,
   "metadata": {},
   "outputs": [
    {
     "name": "stdout",
     "output_type": "stream",
     "text": [
      "<class 'list'>\n",
      "[4, 'Hi', 50, 34.5]\n",
      "[4, 'bye', 50, 34.5, 'No ']\n",
      "5\n",
      "[50, 34.5]\n",
      "No \n"
     ]
    }
   ],
   "source": [
    "# Lists in python\n",
    "\n",
    "a=[4,\"Hi\",50,34.5]\n",
    "\n",
    "#type of a\n",
    "print(type(a))\n",
    "print(a)\n",
    "\n",
    "#modifying values\n",
    "a[1]=\"bye\"\n",
    "\n",
    "#inserting \n",
    "a.insert(4,\"No \")\n",
    "print(a)\n",
    "\n",
    "#length of list\n",
    "print(len(a))\n",
    "\n",
    "#slicing\n",
    "print (a[2:4])\n",
    "\n",
    "#printing index value\n",
    "print(a[len(a)-1])\n"
   ]
  },
  {
   "cell_type": "code",
   "execution_count": 49,
   "metadata": {},
   "outputs": [
    {
     "name": "stdout",
     "output_type": "stream",
     "text": [
      "<class 'tuple'>\n",
      "<class 'tuple'>\n",
      "(1, 'no', 3, 'Hi', 5, 7, 8.6)\n",
      "7\n",
      "(4, 'mind', 5.45)\n",
      "mind\n"
     ]
    }
   ],
   "source": [
    "# Tuples in Python\n",
    "\n",
    "a=(1,\"no\",3,\"Hi\",5,7,8.6)\n",
    "b=4,\"mind\",5.45\n",
    "print(type(a))\n",
    "\n",
    "#type\n",
    "print(type(b))\n",
    "print(a)\n",
    "\n",
    "#length of tuple\n",
    "print(len(a))\n",
    "print(b)\n",
    "\n",
    "#printing index\n",
    "print(b[1])"
   ]
  },
  {
   "cell_type": "code",
   "execution_count": 50,
   "metadata": {},
   "outputs": [
    {
     "name": "stdout",
     "output_type": "stream",
     "text": [
      "<class 'set'>\n",
      "{1, 2, 3, 4, 5, 11}\n",
      "<class 'set'>\n",
      "{9, 3, 4, 6}\n",
      "6\n",
      "{1, 2, 3, 4, 5, 6, 9, 11}\n",
      "{3, 4}\n"
     ]
    }
   ],
   "source": [
    "# Sets in Python\n",
    "\n",
    "a={1,2,3,4,5,3,2,1}\n",
    "b={3,4,6,9}\n",
    "print(type(a))\n",
    "\n",
    "#adding values to set\n",
    "a.add(11)\n",
    "print(a)\n",
    "print(type(b))\n",
    "print(b)\n",
    "\n",
    "#length of set\n",
    "print(len(a))\n",
    "\n",
    "#union operation\n",
    "print(a | b)\n",
    "\n",
    "#intersection\n",
    "print(a & b)"
   ]
  },
  {
   "cell_type": "code",
   "execution_count": 56,
   "metadata": {},
   "outputs": [
    {
     "name": "stdout",
     "output_type": "stream",
     "text": [
      "<class 'dict'>\n",
      "{'name': 'praveen', 'age': 20, 'gender': 'male'}\n",
      "21\n",
      "praveen\n"
     ]
    }
   ],
   "source": [
    "# Dictionaries in Python\n",
    "\n",
    "a={'name':'praveen',\n",
    "   'age' :20 ,\n",
    "   'gender':'male'}\n",
    "\n",
    "#type\n",
    "print(type(a))\n",
    "print(a)\n",
    "\n",
    "#modifing dict\n",
    "a['age']=21\n",
    "print(a['age'])\n",
    "\n",
    "#using get\n",
    "print(a.get('name'))"
   ]
  },
  {
   "cell_type": "code",
   "execution_count": 72,
   "metadata": {},
   "outputs": [
    {
     "name": "stdout",
     "output_type": "stream",
     "text": [
      "type int :34\n",
      "type string :Praveen\n",
      "type float23.56\n",
      "type anything :mind\n",
      "mind\n",
      "23.56\n",
      "Praveen\n",
      "34\n"
     ]
    }
   ],
   "source": [
    "# user input\n",
    "\n",
    "a=int(input(\"type int :\"))\n",
    "b=str(input(\"type string :\"))\n",
    "c=float(input(\"type float\"))\n",
    "d=input(\"type anything :\")\n",
    "print(d)\n",
    "print(c)\n",
    "print(b)\n",
    "print(a)"
   ]
  },
  {
   "cell_type": "code",
   "execution_count": 77,
   "metadata": {},
   "outputs": [
    {
     "name": "stdout",
     "output_type": "stream",
     "text": [
      "ARITHMETIC OPERATIONS\n",
      "132\n",
      "24\n",
      "4212\n",
      "1.4444444444444444\n",
      "1\n",
      "24\n"
     ]
    }
   ],
   "source": [
    "# ARITHMETIC OPERATORS\n",
    "\n",
    "print(\"ARITHMETIC OPERATIONS\")\n",
    "a=78\n",
    "b=54\n",
    "\n",
    "#addition\n",
    "print(a+b)\n",
    "\n",
    "#substraction\n",
    "print(a-b)\n",
    "\n",
    "#multi\n",
    "print(a*b)\n",
    "\n",
    "#div\n",
    "print(a/b)\n",
    "print(a//b)\n",
    "print(a%b)"
   ]
  },
  {
   "cell_type": "code",
   "execution_count": 80,
   "metadata": {},
   "outputs": [
    {
     "name": "stdout",
     "output_type": "stream",
     "text": [
      "10\n",
      "12\n",
      "7\n",
      "14\n",
      "0\n"
     ]
    }
   ],
   "source": [
    "# ASSIGNMENT OPERATOR\n",
    "\n",
    "a=10\n",
    "print(a)\n",
    "a+=2\n",
    "print(a)\n",
    "a-=5\n",
    "print(a)\n",
    "a*=2\n",
    "print(a)\n",
    "a%=2\n",
    "print(a)"
   ]
  },
  {
   "cell_type": "code",
   "execution_count": 81,
   "metadata": {},
   "outputs": [
    {
     "name": "stdout",
     "output_type": "stream",
     "text": [
      "False\n",
      "True\n",
      "True\n"
     ]
    }
   ],
   "source": [
    "# RELATIONAL OPERATOR\n",
    "\n",
    "a = 5\n",
    "b = 9\n",
    "c = 8\n",
    "print (a>b)\n",
    "print (b>c)\n",
    "print ( (a>b) or (b>c))"
   ]
  },
  {
   "cell_type": "code",
   "execution_count": 89,
   "metadata": {},
   "outputs": [
    {
     "name": "stdout",
     "output_type": "stream",
     "text": [
      "enter your age :12\n",
      "your not eligible\n"
     ]
    }
   ],
   "source": [
    "# CONDITIONAL STATEMENTS IN PYTHON\n",
    "\n",
    "a=int(input(\"enter your age :\"))\n",
    "\n",
    "if a<18:\n",
    "    print(\"your not eligible\")\n",
    "elif(a>=18 and a < 50):\n",
    "    print(\"your eligible\")\n",
    "elif a > 50 :\n",
    "    print(\"your not eligible\")\n",
    "else:\n",
    "    print(\"your not eligible\")"
   ]
  },
  {
   "cell_type": "code",
   "execution_count": 91,
   "metadata": {},
   "outputs": [
    {
     "name": "stdout",
     "output_type": "stream",
     "text": [
      "2\n",
      "3\n",
      "4\n",
      "6\n",
      "7\n",
      "8\n",
      "Sum 30\n"
     ]
    }
   ],
   "source": [
    "# Loops in Python\n",
    "\n",
    "a=[2,3,4,6,7,8]\n",
    "b=0\n",
    "for i in range(len(a)):\n",
    "    b+=a[i]\n",
    "    print(a[i])\n",
    "print(\"Sum\",b)    "
   ]
  },
  {
   "cell_type": "code",
   "execution_count": 95,
   "metadata": {},
   "outputs": [
    {
     "name": "stdout",
     "output_type": "stream",
     "text": [
      "\n",
      "\n",
      "1 \n",
      "\n",
      "1 2 \n",
      "\n",
      "1 2 3 \n",
      "\n",
      "1 2 3 4 \n",
      "\n",
      "1 2 3 4 5 \n",
      "\n",
      "1 2 3 4 5 6 \n",
      "\n",
      "1 2 3 4 5 6 7 \n",
      "\n",
      "1 2 3 4 5 6 7 8 \n",
      "\n"
     ]
    }
   ],
   "source": [
    "# Nested loops\n",
    "\n",
    "for i in range(1,10,1):\n",
    "    for j in range(1,i):\n",
    "        print(j,end=\" \")\n",
    "    print('\\n')    "
   ]
  },
  {
   "cell_type": "code",
   "execution_count": null,
   "metadata": {},
   "outputs": [],
   "source": []
  }
 ],
 "metadata": {
  "kernelspec": {
   "display_name": "Python 3",
   "language": "python",
   "name": "python3"
  },
  "language_info": {
   "codemirror_mode": {
    "name": "ipython",
    "version": 3
   },
   "file_extension": ".py",
   "mimetype": "text/x-python",
   "name": "python",
   "nbconvert_exporter": "python",
   "pygments_lexer": "ipython3",
   "version": "3.8.5"
  }
 },
 "nbformat": 4,
 "nbformat_minor": 4
}
